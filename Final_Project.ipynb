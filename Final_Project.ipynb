{
  "nbformat": 4,
  "nbformat_minor": 0,
  "metadata": {
    "colab": {
      "name": "Final_Project.ipynb",
      "provenance": [],
      "collapsed_sections": []
    },
    "kernelspec": {
      "name": "python3",
      "display_name": "Python 3"
    },
    "language_info": {
      "name": "python"
    }
  },
  "cells": [
    {
      "cell_type": "code",
      "metadata": {
        "id": "__Q1YHlaKSFp"
      },
      "source": [
        "#Importing required Libraries\n",
        "import pandas as pd \n",
        "import numpy as np \n",
        "import matplotlib.pyplot as plt\n",
        "import re\n",
        "import nltk\n",
        "from nltk.corpus import stopwords\n",
        "from nltk.stem.porter import PorterStemmer\n",
        "from sklearn.feature_extraction.text import CountVectorizer\n",
        "from sklearn.model_selection import train_test_split\n",
        "from sklearn.naive_bayes import GaussianNB\n",
        "from sklearn.metrics import confusion_matrix\n",
        "from sklearn.ensemble import RandomForestClassifier\n",
        "from sklearn.svm import SVC\n",
        "from sklearn.metrics import accuracy_score\n",
        "from sklearn.metrics import classification_report"
      ],
      "execution_count": 17,
      "outputs": []
    },
    {
      "cell_type": "code",
      "metadata": {
        "id": "rc6PUUrPKb9c"
      },
      "source": [
        "dataset = pd.read_csv(\"/content/Student feedback.csv\",encoding='latin1') "
      ],
      "execution_count": 18,
      "outputs": []
    },
    {
      "cell_type": "code",
      "metadata": {
        "colab": {
          "base_uri": "https://localhost:8080/",
          "height": 206
        },
        "id": "gvYZTaOXKx8U",
        "outputId": "bfe8bddb-ed5f-4289-b92b-de1d2ed3167a"
      },
      "source": [
        "dataset.head()"
      ],
      "execution_count": 19,
      "outputs": [
        {
          "output_type": "execute_result",
          "data": {
            "text/html": [
              "<div>\n",
              "<style scoped>\n",
              "    .dataframe tbody tr th:only-of-type {\n",
              "        vertical-align: middle;\n",
              "    }\n",
              "\n",
              "    .dataframe tbody tr th {\n",
              "        vertical-align: top;\n",
              "    }\n",
              "\n",
              "    .dataframe thead th {\n",
              "        text-align: right;\n",
              "    }\n",
              "</style>\n",
              "<table border=\"1\" class=\"dataframe\">\n",
              "  <thead>\n",
              "    <tr style=\"text-align: right;\">\n",
              "      <th></th>\n",
              "      <th>Review</th>\n",
              "      <th>Liked</th>\n",
              "    </tr>\n",
              "  </thead>\n",
              "  <tbody>\n",
              "    <tr>\n",
              "      <th>0</th>\n",
              "      <td>privacy at least put some option appear offli...</td>\n",
              "      <td>0</td>\n",
              "    </tr>\n",
              "    <tr>\n",
              "      <th>1</th>\n",
              "      <td>messenger issues ever since the last update, ...</td>\n",
              "      <td>0</td>\n",
              "    </tr>\n",
              "    <tr>\n",
              "      <th>2</th>\n",
              "      <td>profile any time my wife or anybody has more ...</td>\n",
              "      <td>0</td>\n",
              "    </tr>\n",
              "    <tr>\n",
              "      <th>3</th>\n",
              "      <td>the new features suck for those of us who don...</td>\n",
              "      <td>0</td>\n",
              "    </tr>\n",
              "    <tr>\n",
              "      <th>4</th>\n",
              "      <td>forced reload on uploading pic on replying co...</td>\n",
              "      <td>0</td>\n",
              "    </tr>\n",
              "  </tbody>\n",
              "</table>\n",
              "</div>"
            ],
            "text/plain": [
              "                                              Review  Liked\n",
              "0   privacy at least put some option appear offli...      0\n",
              "1   messenger issues ever since the last update, ...      0\n",
              "2   profile any time my wife or anybody has more ...      0\n",
              "3   the new features suck for those of us who don...      0\n",
              "4   forced reload on uploading pic on replying co...      0"
            ]
          },
          "metadata": {},
          "execution_count": 19
        }
      ]
    },
    {
      "cell_type": "code",
      "metadata": {
        "colab": {
          "base_uri": "https://localhost:8080/"
        },
        "id": "fS94LQ63K1E2",
        "outputId": "ce97df8b-5c79-46ab-d305-8363d8dd2a53"
      },
      "source": [
        "# Checking data types of each columns\n",
        "dataset.dtypes"
      ],
      "execution_count": 20,
      "outputs": [
        {
          "output_type": "execute_result",
          "data": {
            "text/plain": [
              "Review    object\n",
              "Liked      int64\n",
              "dtype: object"
            ]
          },
          "metadata": {},
          "execution_count": 20
        }
      ]
    },
    {
      "cell_type": "code",
      "metadata": {
        "colab": {
          "base_uri": "https://localhost:8080/"
        },
        "id": "pDmmHrUlLGKB",
        "outputId": "375dc6e3-9c60-4c35-cadf-17aa36953090"
      },
      "source": [
        "dataset.isna().sum()"
      ],
      "execution_count": 21,
      "outputs": [
        {
          "output_type": "execute_result",
          "data": {
            "text/plain": [
              "Review    0\n",
              "Liked     0\n",
              "dtype: int64"
            ]
          },
          "metadata": {},
          "execution_count": 21
        }
      ]
    },
    {
      "cell_type": "code",
      "metadata": {
        "colab": {
          "base_uri": "https://localhost:8080/",
          "height": 206
        },
        "id": "P8uO3w0OLVwP",
        "outputId": "38e1f971-fd17-41ff-b93a-3ef3c1ed51fc"
      },
      "source": [
        "# Last five rows in data\n",
        "dataset.tail()"
      ],
      "execution_count": 22,
      "outputs": [
        {
          "output_type": "execute_result",
          "data": {
            "text/html": [
              "<div>\n",
              "<style scoped>\n",
              "    .dataframe tbody tr th:only-of-type {\n",
              "        vertical-align: middle;\n",
              "    }\n",
              "\n",
              "    .dataframe tbody tr th {\n",
              "        vertical-align: top;\n",
              "    }\n",
              "\n",
              "    .dataframe thead th {\n",
              "        text-align: right;\n",
              "    }\n",
              "</style>\n",
              "<table border=\"1\" class=\"dataframe\">\n",
              "  <thead>\n",
              "    <tr style=\"text-align: right;\">\n",
              "      <th></th>\n",
              "      <th>Review</th>\n",
              "      <th>Liked</th>\n",
              "    </tr>\n",
              "  </thead>\n",
              "  <tbody>\n",
              "    <tr>\n",
              "      <th>886</th>\n",
              "      <td>loved it i loooooooooooooovvved it because it...</td>\n",
              "      <td>1</td>\n",
              "    </tr>\n",
              "    <tr>\n",
              "      <th>887</th>\n",
              "      <td>all time legendary game the birthday party le...</td>\n",
              "      <td>1</td>\n",
              "    </tr>\n",
              "    <tr>\n",
              "      <th>888</th>\n",
              "      <td>ads are way to heavy listen to the bad review...</td>\n",
              "      <td>0</td>\n",
              "    </tr>\n",
              "    <tr>\n",
              "      <th>889</th>\n",
              "      <td>fun works perfectly well. ads aren't as annoy...</td>\n",
              "      <td>1</td>\n",
              "    </tr>\n",
              "    <tr>\n",
              "      <th>890</th>\n",
              "      <td>they're everywhere i see angry birds everywhe...</td>\n",
              "      <td>1</td>\n",
              "    </tr>\n",
              "  </tbody>\n",
              "</table>\n",
              "</div>"
            ],
            "text/plain": [
              "                                                Review  Liked\n",
              "886   loved it i loooooooooooooovvved it because it...      1\n",
              "887   all time legendary game the birthday party le...      1\n",
              "888   ads are way to heavy listen to the bad review...      0\n",
              "889   fun works perfectly well. ads aren't as annoy...      1\n",
              "890   they're everywhere i see angry birds everywhe...      1"
            ]
          },
          "metadata": {},
          "execution_count": 22
        }
      ]
    },
    {
      "cell_type": "markdown",
      "metadata": {
        "id": "R63rTaQxMU49"
      },
      "source": [
        "Data Preprocessing"
      ]
    },
    {
      "cell_type": "code",
      "metadata": {
        "colab": {
          "base_uri": "https://localhost:8080/"
        },
        "id": "s2sKQzokLs26",
        "outputId": "066e2b76-9f61-4a77-c79c-e1099ad28977"
      },
      "source": [
        "nltk.download('stopwords')\n",
        "corpus = [] \n",
        "for i in range(0,891):\n",
        "    review = re.sub('[^a-zA-Z]', ' ', dataset['Review'][i])\n",
        "    review = review.lower()\n",
        "    review=review.split() \n",
        "    ps=PorterStemmer()\n",
        "    review = [ps.stem(word) for word in review if not word in set(stopwords.words('english'))] \n",
        "    review=' '.join(review) \n",
        "    corpus.append(review)\n"
      ],
      "execution_count": 23,
      "outputs": [
        {
          "output_type": "stream",
          "name": "stdout",
          "text": [
            "[nltk_data] Downloading package stopwords to /root/nltk_data...\n",
            "[nltk_data]   Unzipping corpora/stopwords.zip.\n"
          ]
        }
      ]
    },
    {
      "cell_type": "markdown",
      "metadata": {
        "id": "cPudpbWxMPcH"
      },
      "source": [
        "Creating the Bag of Words model"
      ]
    },
    {
      "cell_type": "code",
      "metadata": {
        "id": "y4UPWPfbMFd3"
      },
      "source": [
        "cv = CountVectorizer(max_features = 1500)\n",
        "X = cv.fit_transform(corpus).toarray()\n",
        "y = dataset.iloc[:, 1].values"
      ],
      "execution_count": 24,
      "outputs": []
    },
    {
      "cell_type": "code",
      "metadata": {
        "id": "36dKHWRTMXtl"
      },
      "source": [
        "# Splitting the dataset into the Training set and Test set\n",
        "X_train, X_test, y_train, y_test = train_test_split(X, y, test_size = 0.4, random_state = 0)"
      ],
      "execution_count": 25,
      "outputs": []
    },
    {
      "cell_type": "code",
      "metadata": {
        "colab": {
          "base_uri": "https://localhost:8080/"
        },
        "id": "V5zEs9VSMgms",
        "outputId": "f7ec1476-cb32-40e1-e71b-dd27c9dababa"
      },
      "source": [
        "print(X_train.shape)\n",
        "print(y_train.shape)\n",
        "print(X_test.shape)\n",
        "print(y_test.shape)"
      ],
      "execution_count": 26,
      "outputs": [
        {
          "output_type": "stream",
          "name": "stdout",
          "text": [
            "(534, 1500)\n",
            "(534,)\n",
            "(357, 1500)\n",
            "(357,)\n"
          ]
        }
      ]
    },
    {
      "cell_type": "markdown",
      "metadata": {
        "id": "QgL0Ce2tM1TE"
      },
      "source": [
        "#Clasiification"
      ]
    },
    {
      "cell_type": "markdown",
      "metadata": {
        "id": "Ur3A9O3LM28S"
      },
      "source": [
        "### Navie Bayes"
      ]
    },
    {
      "cell_type": "code",
      "metadata": {
        "colab": {
          "base_uri": "https://localhost:8080/"
        },
        "id": "vNO3K5o7Y-mD",
        "outputId": "7682b8b9-1217-44a6-946f-79b29be93425"
      },
      "source": [
        "!pip install numpy \n",
        "!pip install scipy"
      ],
      "execution_count": 27,
      "outputs": [
        {
          "output_type": "stream",
          "name": "stdout",
          "text": [
            "Requirement already satisfied: numpy in /usr/local/lib/python3.7/dist-packages (1.19.5)\n",
            "Requirement already satisfied: scipy in /usr/local/lib/python3.7/dist-packages (1.4.1)\n",
            "Requirement already satisfied: numpy>=1.13.3 in /usr/local/lib/python3.7/dist-packages (from scipy) (1.19.5)\n"
          ]
        }
      ]
    },
    {
      "cell_type": "code",
      "metadata": {
        "id": "dcXhlwdmcnxs"
      },
      "source": [
        "import sklearn.metrics as mt"
      ],
      "execution_count": 28,
      "outputs": []
    },
    {
      "cell_type": "code",
      "metadata": {
        "id": "iobKaOjZMkO9"
      },
      "source": [
        "# Naive Bayes \n",
        "NB_classifier = GaussianNB()\n",
        "NB_classifier.fit(X_train, y_train) \n",
        "y_pred_NB = NB_classifier.predict(X_test) "
      ],
      "execution_count": 29,
      "outputs": []
    },
    {
      "cell_type": "code",
      "metadata": {
        "colab": {
          "base_uri": "https://localhost:8080/"
        },
        "id": "1QtNJqFaNI-y",
        "outputId": "57bbaf0c-ed39-49bc-ce2d-17dc2ec584ee"
      },
      "source": [
        "accuracy_score(y_test, y_pred_NB) "
      ],
      "execution_count": 30,
      "outputs": [
        {
          "output_type": "execute_result",
          "data": {
            "text/plain": [
              "0.7198879551820728"
            ]
          },
          "metadata": {},
          "execution_count": 30
        }
      ]
    },
    {
      "cell_type": "code",
      "metadata": {
        "colab": {
          "base_uri": "https://localhost:8080/"
        },
        "id": "VXBzmDYPN1ZW",
        "outputId": "213e6653-d2ab-4ffd-ad76-288fcbc21f74"
      },
      "source": [
        "print(classification_report(y_test, y_pred_NB)) "
      ],
      "execution_count": 31,
      "outputs": [
        {
          "output_type": "stream",
          "name": "stdout",
          "text": [
            "              precision    recall  f1-score   support\n",
            "\n",
            "           0       0.77      0.81      0.79       233\n",
            "           1       0.61      0.55      0.58       124\n",
            "\n",
            "    accuracy                           0.72       357\n",
            "   macro avg       0.69      0.68      0.68       357\n",
            "weighted avg       0.71      0.72      0.72       357\n",
            "\n"
          ]
        }
      ]
    },
    {
      "cell_type": "code",
      "metadata": {
        "colab": {
          "base_uri": "https://localhost:8080/"
        },
        "id": "QK2ySm-nW845",
        "outputId": "f800e2ee-5c98-4efc-cae2-286cf02ba7ce"
      },
      "source": [
        "# confusion matrix \n",
        "cm = confusion_matrix(y_test,y_pred_NB)\n",
        "print(confusion_matrix(y_test,y_pred_NB))"
      ],
      "execution_count": 32,
      "outputs": [
        {
          "output_type": "stream",
          "name": "stdout",
          "text": [
            "[[189  44]\n",
            " [ 56  68]]\n"
          ]
        }
      ]
    },
    {
      "cell_type": "code",
      "metadata": {
        "colab": {
          "base_uri": "https://localhost:8080/"
        },
        "id": "NY_d9lPoOJOc",
        "outputId": "5ed13006-54fe-4ffb-9c92-18e7fd02ee20"
      },
      "source": [
        "# importing r2_score module\n",
        "from sklearn.metrics import r2_score \n",
        "from sklearn.metrics import mean_squared_error\n",
        "# predicting the accuracy score\n",
        "score=r2_score(y_test,y_pred_NB) \n",
        "print('r2 socre is ',score) \n",
        "print('mean_sqrd_error is==',mean_squared_error(y_test,y_pred_NB))\n",
        "print('root_mean_squared error of is==',np.sqrt(mean_squared_error(y_test,y_pred_NB)))"
      ],
      "execution_count": 33,
      "outputs": [
        {
          "output_type": "stream",
          "name": "stdout",
          "text": [
            "r2 socre is  -0.23563616225944894\n",
            "mean_sqrd_error is== 0.2801120448179272\n",
            "root_mean_squared error of is== 0.5292561240249631\n"
          ]
        }
      ]
    },
    {
      "cell_type": "markdown",
      "metadata": {
        "id": "Hkij427l56Vy"
      },
      "source": [
        "###MulitinomialNB"
      ]
    },
    {
      "cell_type": "code",
      "metadata": {
        "colab": {
          "base_uri": "https://localhost:8080/"
        },
        "id": "1_CoymXI5WxF",
        "outputId": "cbd10165-f5f9-4716-a8ae-85594c93986a"
      },
      "source": [
        "from sklearn.naive_bayes import MultinomialNB\n",
        "# MultinomialNB\n",
        "for dep in range(1,50,5):\n",
        "  Multi_NB_classifier = MultinomialNB(fit_prior=dep)\n",
        "  Multi_NB_classifier.fit(X_train, y_train)\n",
        "  y_pred_MultiNB = Multi_NB_classifier.predict(X_test)\n",
        "  \n",
        "  print(\"Depth: \",dep)\n",
        "  print(accuracy_score(Multi_NB_classifier.predict(X_train),y_train))\n",
        "  print(accuracy_score(y_pred_MultiNB,y_test))"
      ],
      "execution_count": 95,
      "outputs": [
        {
          "output_type": "stream",
          "name": "stdout",
          "text": [
            "Depth:  1\n",
            "0.9288389513108615\n",
            "0.7815126050420168\n",
            "Depth:  6\n",
            "0.9288389513108615\n",
            "0.7815126050420168\n",
            "Depth:  11\n",
            "0.9288389513108615\n",
            "0.7815126050420168\n",
            "Depth:  16\n",
            "0.9288389513108615\n",
            "0.7815126050420168\n",
            "Depth:  21\n",
            "0.9288389513108615\n",
            "0.7815126050420168\n",
            "Depth:  26\n",
            "0.9288389513108615\n",
            "0.7815126050420168\n",
            "Depth:  31\n",
            "0.9288389513108615\n",
            "0.7815126050420168\n",
            "Depth:  36\n",
            "0.9288389513108615\n",
            "0.7815126050420168\n",
            "Depth:  41\n",
            "0.9288389513108615\n",
            "0.7815126050420168\n",
            "Depth:  46\n",
            "0.9288389513108615\n",
            "0.7815126050420168\n"
          ]
        }
      ]
    },
    {
      "cell_type": "code",
      "metadata": {
        "colab": {
          "base_uri": "https://localhost:8080/"
        },
        "id": "vf7_ADjZ6KpF",
        "outputId": "d6ca1099-c862-429d-bbd4-0819e09efaea"
      },
      "source": [
        "accuracy_score(y_test, y_pred_MultiNB)"
      ],
      "execution_count": 98,
      "outputs": [
        {
          "output_type": "execute_result",
          "data": {
            "text/plain": [
              "0.7815126050420168"
            ]
          },
          "metadata": {},
          "execution_count": 98
        }
      ]
    },
    {
      "cell_type": "code",
      "metadata": {
        "colab": {
          "base_uri": "https://localhost:8080/"
        },
        "id": "sTqcORHi6SuY",
        "outputId": "53150959-cc6d-4eac-8a81-b6522a480509"
      },
      "source": [
        "print(classification_report(y_test, y_pred_MultiNB)) "
      ],
      "execution_count": 91,
      "outputs": [
        {
          "output_type": "stream",
          "name": "stdout",
          "text": [
            "              precision    recall  f1-score   support\n",
            "\n",
            "           0       0.82      0.86      0.84       233\n",
            "           1       0.71      0.64      0.67       124\n",
            "\n",
            "    accuracy                           0.78       357\n",
            "   macro avg       0.76      0.75      0.75       357\n",
            "weighted avg       0.78      0.78      0.78       357\n",
            "\n"
          ]
        }
      ]
    },
    {
      "cell_type": "code",
      "metadata": {
        "colab": {
          "base_uri": "https://localhost:8080/"
        },
        "id": "PylZ9OzB6YQf",
        "outputId": "44e0e41d-ae55-4989-c387-d14bf5e4a327"
      },
      "source": [
        "# predicting the accuracy score\n",
        "score=r2_score(y_test,y_pred_MultiNB) \n",
        "print('r2 socre is ',score) \n",
        "print('mean_sqrd_error is==',mean_squared_error(y_test,y_pred_MultiNB))\n",
        "print('root_mean_squared error of is==',np.sqrt(mean_squared_error(y_test,y_pred_MultiNB)))"
      ],
      "execution_count": 92,
      "outputs": [
        {
          "output_type": "stream",
          "name": "stdout",
          "text": [
            "r2 socre is  0.036203793437629805\n",
            "mean_sqrd_error is== 0.2184873949579832\n",
            "root_mean_squared error of is== 0.4674263524428027\n"
          ]
        }
      ]
    },
    {
      "cell_type": "markdown",
      "metadata": {
        "id": "nuYfTFUnP5Yv"
      },
      "source": [
        "### Random Forest"
      ]
    },
    {
      "cell_type": "code",
      "metadata": {
        "id": "hZqmG0a4PR3z",
        "colab": {
          "base_uri": "https://localhost:8080/"
        },
        "outputId": "9a86f389-3b88-4dbb-dd95-923f7d690207"
      },
      "source": [
        "tr =[]\n",
        "te =[]\n",
        "\n",
        "# Random Forest\n",
        "for dep in range(1,50,5):\n",
        "  rf_classifier = RandomForestClassifier(n_estimators = dep, criterion = 'entropy', random_state = 0)\n",
        "  rf_classifier.fit(X_train, y_train)\n",
        "  y_pred_rf = rf_classifier.predict(X_test)\n",
        "  tr.append(accuracy_score(rf_classifier.predict(X_train),y_train))\n",
        "  te.append(accuracy_score(y_pred_NB,y_test))\n",
        "  print(\"Depth: \",dep)\n",
        "  print(accuracy_score(rf_classifier.predict(X_train),y_train))\n",
        "  print(accuracy_score(y_pred_NB,y_test))"
      ],
      "execution_count": 44,
      "outputs": [
        {
          "output_type": "stream",
          "name": "stdout",
          "text": [
            "Depth:  1\n",
            "0.8539325842696629\n",
            "0.7198879551820728\n",
            "Depth:  6\n",
            "0.9794007490636704\n",
            "0.7198879551820728\n",
            "Depth:  11\n",
            "0.99812734082397\n",
            "0.7198879551820728\n",
            "Depth:  16\n",
            "0.9962546816479401\n",
            "0.7198879551820728\n",
            "Depth:  21\n",
            "1.0\n",
            "0.7198879551820728\n",
            "Depth:  26\n",
            "0.99812734082397\n",
            "0.7198879551820728\n",
            "Depth:  31\n",
            "1.0\n",
            "0.7198879551820728\n",
            "Depth:  36\n",
            "1.0\n",
            "0.7198879551820728\n",
            "Depth:  41\n",
            "1.0\n",
            "0.7198879551820728\n",
            "Depth:  46\n",
            "1.0\n",
            "0.7198879551820728\n"
          ]
        }
      ]
    },
    {
      "cell_type": "code",
      "metadata": {
        "colab": {
          "base_uri": "https://localhost:8080/"
        },
        "id": "QItkPK6NQD_Z",
        "outputId": "3b689278-84c1-4b4e-baed-de106c0da2c0"
      },
      "source": [
        "# accuracy score\n",
        "accuracy_score(y_test, y_pred_rf) "
      ],
      "execution_count": 47,
      "outputs": [
        {
          "output_type": "execute_result",
          "data": {
            "text/plain": [
              "0.7535014005602241"
            ]
          },
          "metadata": {},
          "execution_count": 47
        }
      ]
    },
    {
      "cell_type": "code",
      "metadata": {
        "colab": {
          "base_uri": "https://localhost:8080/"
        },
        "id": "2QsP_patQKjw",
        "outputId": "5e06a3c1-99ae-451d-e6f3-560b1669ac00"
      },
      "source": [
        "print(classification_report(y_test, y_pred_rf)) "
      ],
      "execution_count": 48,
      "outputs": [
        {
          "output_type": "stream",
          "name": "stdout",
          "text": [
            "              precision    recall  f1-score   support\n",
            "\n",
            "           0       0.80      0.83      0.82       233\n",
            "           1       0.66      0.60      0.63       124\n",
            "\n",
            "    accuracy                           0.75       357\n",
            "   macro avg       0.73      0.72      0.72       357\n",
            "weighted avg       0.75      0.75      0.75       357\n",
            "\n"
          ]
        }
      ]
    },
    {
      "cell_type": "code",
      "metadata": {
        "colab": {
          "base_uri": "https://localhost:8080/"
        },
        "id": "hiWZq95iW4QJ",
        "outputId": "6308e621-6592-4806-8c79-895219e3f848"
      },
      "source": [
        "# confusion matrix\n",
        "cm = confusion_matrix(y_test,y_pred_rf) \n",
        "print(confusion_matrix(y_test,y_pred_rf))"
      ],
      "execution_count": 49,
      "outputs": [
        {
          "output_type": "stream",
          "name": "stdout",
          "text": [
            "[[194  39]\n",
            " [ 49  75]]\n"
          ]
        }
      ]
    },
    {
      "cell_type": "code",
      "metadata": {
        "colab": {
          "base_uri": "https://localhost:8080/"
        },
        "id": "QfG6pIWQQSss",
        "outputId": "ab5895d3-6d65-4bf5-c93a-4da42fe87572"
      },
      "source": [
        "# predicting the r2 score\n",
        "score=r2_score(y_test,y_pred_rf) \n",
        "print('r2 socre is ',score) \n",
        "print('mean_sqrd_error is==',mean_squared_error(y_test,y_pred_rf))\n",
        "print('root_mean_squared error of is==',np.sqrt(mean_squared_error(y_test,y_pred_rf)))"
      ],
      "execution_count": 50,
      "outputs": [
        {
          "output_type": "stream",
          "name": "stdout",
          "text": [
            "r2 socre is  -0.08735982278831522\n",
            "mean_sqrd_error is== 0.24649859943977592\n",
            "root_mean_squared error of is== 0.49648625302195015\n"
          ]
        }
      ]
    },
    {
      "cell_type": "markdown",
      "metadata": {
        "id": "2A8eSVA-Qq7W"
      },
      "source": [
        "### Support Vector Machine"
      ]
    },
    {
      "cell_type": "code",
      "metadata": {
        "id": "9lXXnVOpQmr4",
        "colab": {
          "base_uri": "https://localhost:8080/"
        },
        "outputId": "5907a688-2e62-48ed-e33e-2b480063086a"
      },
      "source": [
        "#Support Vector Machine \n",
        "tr1 =[]\n",
        "te1 =[]\n",
        "\n",
        "for dep in range(1,500,50):\n",
        "  SVC_classifier = SVC(degree=dep ,kernel = 'rbf') \n",
        "  SVC_classifier.fit(X_train, y_train)\n",
        "  y_pred_SVC = SVC_classifier.predict(X_test)\n",
        "  tr1.append(accuracy_score(SVC_classifier.predict(X_train),y_train))\n",
        "  te1.append(accuracy_score(y_pred_SVC,y_test))\n",
        "  print(\"Depth: \",dep)\n",
        "  print(\"Accuracy for Train: \",accuracy_score(SVC_classifier.predict(X_train),y_train))\n",
        "  print(\"Accuracy for Test: \",accuracy_score(y_pred_SVC,y_test))"
      ],
      "execution_count": 78,
      "outputs": [
        {
          "output_type": "stream",
          "name": "stdout",
          "text": [
            "Depth:  1\n",
            "Accuracy for Train:  0.9625468164794008\n",
            "Accuracy for Test:  0.7759103641456583\n",
            "Depth:  51\n",
            "Accuracy for Train:  0.9625468164794008\n",
            "Accuracy for Test:  0.7759103641456583\n",
            "Depth:  101\n",
            "Accuracy for Train:  0.9625468164794008\n",
            "Accuracy for Test:  0.7759103641456583\n",
            "Depth:  151\n",
            "Accuracy for Train:  0.9625468164794008\n",
            "Accuracy for Test:  0.7759103641456583\n",
            "Depth:  201\n",
            "Accuracy for Train:  0.9625468164794008\n",
            "Accuracy for Test:  0.7759103641456583\n",
            "Depth:  251\n",
            "Accuracy for Train:  0.9625468164794008\n",
            "Accuracy for Test:  0.7759103641456583\n",
            "Depth:  301\n",
            "Accuracy for Train:  0.9625468164794008\n",
            "Accuracy for Test:  0.7759103641456583\n",
            "Depth:  351\n",
            "Accuracy for Train:  0.9625468164794008\n",
            "Accuracy for Test:  0.7759103641456583\n",
            "Depth:  401\n",
            "Accuracy for Train:  0.9625468164794008\n",
            "Accuracy for Test:  0.7759103641456583\n",
            "Depth:  451\n",
            "Accuracy for Train:  0.9625468164794008\n",
            "Accuracy for Test:  0.7759103641456583\n"
          ]
        }
      ]
    },
    {
      "cell_type": "code",
      "metadata": {
        "colab": {
          "base_uri": "https://localhost:8080/"
        },
        "id": "pc4Ec5MAQ38p",
        "outputId": "17a18a51-ba1c-4e74-8903-137d7ef7cbfb"
      },
      "source": [
        "# accuracy score\n",
        "accuracy_score(y_test, y_pred_SVC)"
      ],
      "execution_count": 52,
      "outputs": [
        {
          "output_type": "execute_result",
          "data": {
            "text/plain": [
              "0.7759103641456583"
            ]
          },
          "metadata": {},
          "execution_count": 52
        }
      ]
    },
    {
      "cell_type": "code",
      "metadata": {
        "colab": {
          "base_uri": "https://localhost:8080/"
        },
        "id": "1IFOv1VNQ_O6",
        "outputId": "6d95913c-20ab-4580-911a-ff14e86d6369"
      },
      "source": [
        "print(classification_report(y_test, y_pred_SVC))"
      ],
      "execution_count": 53,
      "outputs": [
        {
          "output_type": "stream",
          "name": "stdout",
          "text": [
            "              precision    recall  f1-score   support\n",
            "\n",
            "           0       0.78      0.91      0.84       233\n",
            "           1       0.76      0.52      0.62       124\n",
            "\n",
            "    accuracy                           0.78       357\n",
            "   macro avg       0.77      0.72      0.73       357\n",
            "weighted avg       0.77      0.78      0.76       357\n",
            "\n"
          ]
        }
      ]
    },
    {
      "cell_type": "code",
      "metadata": {
        "colab": {
          "base_uri": "https://localhost:8080/"
        },
        "id": "4eN2D0OFWyvI",
        "outputId": "59310f20-22a4-4924-ba7d-df4bb11a50c5"
      },
      "source": [
        "# confusion matrix \n",
        "cm = confusion_matrix(y_test,y_pred_SVC)\n",
        "print(confusion_matrix(y_test,y_pred_SVC))"
      ],
      "execution_count": 54,
      "outputs": [
        {
          "output_type": "stream",
          "name": "stdout",
          "text": [
            "[[212  21]\n",
            " [ 59  65]]\n"
          ]
        }
      ]
    },
    {
      "cell_type": "code",
      "metadata": {
        "colab": {
          "base_uri": "https://localhost:8080/"
        },
        "id": "hH1mnVFNRFOL",
        "outputId": "52048564-fc87-4338-efc2-c41250d40e53"
      },
      "source": [
        "# predicting the r2 score\n",
        "score=r2_score(y_test,y_pred_SVC)\n",
        "print('r2 socre is ',score)\n",
        "print('mean_sqrd_error is==',mean_squared_error(y_test,y_pred_SVC))\n",
        "print('root_mean_squared error of is==',np.sqrt(mean_squared_error(y_test,y_pred_SVC)))"
      ],
      "execution_count": 55,
      "outputs": [
        {
          "output_type": "stream",
          "name": "stdout",
          "text": [
            "r2 socre is  0.011491070192440778\n",
            "mean_sqrd_error is== 0.22408963585434175\n",
            "root_mean_squared error of is== 0.4733810683311509\n"
          ]
        }
      ]
    },
    {
      "cell_type": "markdown",
      "metadata": {
        "id": "8i4VgTbE-fbM"
      },
      "source": [
        "###LogisticRegression"
      ]
    },
    {
      "cell_type": "code",
      "metadata": {
        "id": "RVrVVS2T87v5"
      },
      "source": [
        "#LogisticRegression\n",
        "from sklearn.linear_model import LogisticRegression\n",
        "LogistReg_classifier = LogisticRegression()\n",
        "LogistReg_classifier.fit(X_train,y_train)\n",
        "y_pred_LG = classifier.predict(X_test)"
      ],
      "execution_count": 102,
      "outputs": []
    },
    {
      "cell_type": "code",
      "metadata": {
        "colab": {
          "base_uri": "https://localhost:8080/"
        },
        "id": "63laHgYP-Fow",
        "outputId": "54f104a6-1756-41e0-e506-f1194fe4d12d"
      },
      "source": [
        "accuracy_score(y_test, y_pred_LG) "
      ],
      "execution_count": 103,
      "outputs": [
        {
          "output_type": "execute_result",
          "data": {
            "text/plain": [
              "0.6526610644257703"
            ]
          },
          "metadata": {},
          "execution_count": 103
        }
      ]
    },
    {
      "cell_type": "code",
      "metadata": {
        "colab": {
          "base_uri": "https://localhost:8080/"
        },
        "id": "WSajF_AT-MvF",
        "outputId": "4c0846f7-0973-440f-822f-d3ef6bf910c1"
      },
      "source": [
        "print(classification_report(y_test, y_pred_LG)) "
      ],
      "execution_count": 104,
      "outputs": [
        {
          "output_type": "stream",
          "name": "stdout",
          "text": [
            "              precision    recall  f1-score   support\n",
            "\n",
            "           0       0.65      1.00      0.79       233\n",
            "           1       0.00      0.00      0.00       124\n",
            "\n",
            "    accuracy                           0.65       357\n",
            "   macro avg       0.33      0.50      0.39       357\n",
            "weighted avg       0.43      0.65      0.52       357\n",
            "\n"
          ]
        },
        {
          "output_type": "stream",
          "name": "stderr",
          "text": [
            "/usr/local/lib/python3.7/dist-packages/sklearn/metrics/_classification.py:1308: UndefinedMetricWarning: Precision and F-score are ill-defined and being set to 0.0 in labels with no predicted samples. Use `zero_division` parameter to control this behavior.\n",
            "  _warn_prf(average, modifier, msg_start, len(result))\n",
            "/usr/local/lib/python3.7/dist-packages/sklearn/metrics/_classification.py:1308: UndefinedMetricWarning: Precision and F-score are ill-defined and being set to 0.0 in labels with no predicted samples. Use `zero_division` parameter to control this behavior.\n",
            "  _warn_prf(average, modifier, msg_start, len(result))\n",
            "/usr/local/lib/python3.7/dist-packages/sklearn/metrics/_classification.py:1308: UndefinedMetricWarning: Precision and F-score are ill-defined and being set to 0.0 in labels with no predicted samples. Use `zero_division` parameter to control this behavior.\n",
            "  _warn_prf(average, modifier, msg_start, len(result))\n"
          ]
        }
      ]
    },
    {
      "cell_type": "code",
      "metadata": {
        "colab": {
          "base_uri": "https://localhost:8080/"
        },
        "id": "fJOeuvb3-YC-",
        "outputId": "004fbbe1-fecd-4bf4-e2b3-8cb0ac4c67d4"
      },
      "source": [
        "# predicting the r2 score\n",
        "score=r2_score(y_test,y_pred_LG)\n",
        "print('r2 socre is ',score)\n",
        "print('mean_sqrd_error is==',mean_squared_error(y_test,y_pred_LG))\n",
        "print('root_mean_squared error of is==',np.sqrt(mean_squared_error(y_test,y_pred_LG)))"
      ],
      "execution_count": 105,
      "outputs": [
        {
          "output_type": "stream",
          "name": "stdout",
          "text": [
            "r2 socre is  -0.5321888412017168\n",
            "mean_sqrd_error is== 0.3473389355742297\n",
            "root_mean_squared error of is== 0.5893546772311472\n"
          ]
        }
      ]
    },
    {
      "cell_type": "markdown",
      "metadata": {
        "id": "ttXbCo4yRSPU"
      },
      "source": [
        "### KNN"
      ]
    },
    {
      "cell_type": "code",
      "metadata": {
        "id": "hWkMNCADRNJK",
        "colab": {
          "base_uri": "https://localhost:8080/"
        },
        "outputId": "13b704d2-1c3d-42a2-dfb5-ceb49b8118e0"
      },
      "source": [
        "# KNN (k-Nearest Neighbours)\n",
        "from sklearn.neighbors import KNeighborsClassifier\n",
        "\n",
        "for dep in range(1,500,50):\n",
        "  classifier = KNeighborsClassifier(n_neighbors =dep, metric=\"minkowski\",p=2)\n",
        "  classifier.fit(X_train,y_train)\n",
        "  y_pred_KNN = classifier.predict(X_test)\n",
        "\n",
        "  print(\"Depth: \",dep)\n",
        "  print(accuracy_score(classifier.predict(X_train),y_train))\n",
        "  print(accuracy_score(y_pred_KNN,y_test))"
      ],
      "execution_count": 84,
      "outputs": [
        {
          "output_type": "stream",
          "name": "stdout",
          "text": [
            "Depth:  1\n",
            "1.0\n",
            "0.6106442577030813\n",
            "Depth:  51\n",
            "0.3464419475655431\n",
            "0.35014005602240894\n",
            "Depth:  101\n",
            "0.350187265917603\n",
            "0.36134453781512604\n",
            "Depth:  151\n",
            "0.5636704119850188\n",
            "0.5434173669467787\n",
            "Depth:  201\n",
            "0.6704119850187266\n",
            "0.6554621848739496\n",
            "Depth:  251\n",
            "0.6573033707865169\n",
            "0.6526610644257703\n",
            "Depth:  301\n",
            "0.6573033707865169\n",
            "0.6526610644257703\n",
            "Depth:  351\n",
            "0.6573033707865169\n",
            "0.6526610644257703\n",
            "Depth:  401\n",
            "0.6573033707865169\n",
            "0.6526610644257703\n",
            "Depth:  451\n",
            "0.6573033707865169\n",
            "0.6526610644257703\n"
          ]
        }
      ]
    },
    {
      "cell_type": "code",
      "metadata": {
        "colab": {
          "base_uri": "https://localhost:8080/"
        },
        "id": "JlYgJ2t1Sb7c",
        "outputId": "d0700360-52e7-455f-f8a0-faf3e784b215"
      },
      "source": [
        "accuracy_score(y_test, y_pred_KNN) "
      ],
      "execution_count": 57,
      "outputs": [
        {
          "output_type": "execute_result",
          "data": {
            "text/plain": [
              "0.6526610644257703"
            ]
          },
          "metadata": {},
          "execution_count": 57
        }
      ]
    },
    {
      "cell_type": "code",
      "metadata": {
        "colab": {
          "base_uri": "https://localhost:8080/"
        },
        "id": "GWT72oc4UGI4",
        "outputId": "51c82321-49ac-4c5c-9279-5424f13a6a17"
      },
      "source": [
        "print(classification_report(y_test, y_pred_KNN)) "
      ],
      "execution_count": 58,
      "outputs": [
        {
          "output_type": "stream",
          "name": "stdout",
          "text": [
            "              precision    recall  f1-score   support\n",
            "\n",
            "           0       0.65      1.00      0.79       233\n",
            "           1       0.00      0.00      0.00       124\n",
            "\n",
            "    accuracy                           0.65       357\n",
            "   macro avg       0.33      0.50      0.39       357\n",
            "weighted avg       0.43      0.65      0.52       357\n",
            "\n"
          ]
        },
        {
          "output_type": "stream",
          "name": "stderr",
          "text": [
            "/usr/local/lib/python3.7/dist-packages/sklearn/metrics/_classification.py:1308: UndefinedMetricWarning: Precision and F-score are ill-defined and being set to 0.0 in labels with no predicted samples. Use `zero_division` parameter to control this behavior.\n",
            "  _warn_prf(average, modifier, msg_start, len(result))\n",
            "/usr/local/lib/python3.7/dist-packages/sklearn/metrics/_classification.py:1308: UndefinedMetricWarning: Precision and F-score are ill-defined and being set to 0.0 in labels with no predicted samples. Use `zero_division` parameter to control this behavior.\n",
            "  _warn_prf(average, modifier, msg_start, len(result))\n",
            "/usr/local/lib/python3.7/dist-packages/sklearn/metrics/_classification.py:1308: UndefinedMetricWarning: Precision and F-score are ill-defined and being set to 0.0 in labels with no predicted samples. Use `zero_division` parameter to control this behavior.\n",
            "  _warn_prf(average, modifier, msg_start, len(result))\n"
          ]
        }
      ]
    },
    {
      "cell_type": "code",
      "metadata": {
        "colab": {
          "base_uri": "https://localhost:8080/"
        },
        "id": "SWnZsC-vWm_h",
        "outputId": "8b5eb9f9-409f-4f1f-f946-4914aa6b6bdb"
      },
      "source": [
        "# confusion matrix\n",
        "cm = confusion_matrix(y_test,y_pred_KNN)\n",
        "print(confusion_matrix(y_test,y_pred_KNN)) "
      ],
      "execution_count": 59,
      "outputs": [
        {
          "output_type": "stream",
          "name": "stdout",
          "text": [
            "[[233   0]\n",
            " [124   0]]\n"
          ]
        }
      ]
    },
    {
      "cell_type": "code",
      "metadata": {
        "colab": {
          "base_uri": "https://localhost:8080/"
        },
        "id": "3Cc_ihzHULkU",
        "outputId": "ee4dea3a-97cd-494f-b8cc-38b61f9fea08"
      },
      "source": [
        "# predicting the r2 score\n",
        "score=r2_score(y_test,y_pred_KNN)\n",
        "print('r2 socre is ',score)\n",
        "print('mean_sqrd_error is==',mean_squared_error(y_test,y_pred_KNN))\n",
        "print('root_mean_squared error of is==',np.sqrt(mean_squared_error(y_test,y_pred_KNN)))"
      ],
      "execution_count": 60,
      "outputs": [
        {
          "output_type": "stream",
          "name": "stdout",
          "text": [
            "r2 socre is  -0.5321888412017168\n",
            "mean_sqrd_error is== 0.3473389355742297\n",
            "root_mean_squared error of is== 0.5893546772311472\n"
          ]
        }
      ]
    },
    {
      "cell_type": "markdown",
      "metadata": {
        "id": "QJOsMueYUi2u"
      },
      "source": [
        "### Perceptron"
      ]
    },
    {
      "cell_type": "code",
      "metadata": {
        "id": "7-gmLbQ9USgP"
      },
      "source": [
        "# Perceptron\n",
        "from sklearn.linear_model import Perceptron\n",
        "classifier_pe = Perceptron()\n",
        "classifier_pe.fit(X_train,y_train)\n",
        "\n",
        "# predictiong testset\n",
        "y_pred_ptorn = classifier_pe.predict(X_test)\n",
        "\n"
      ],
      "execution_count": 61,
      "outputs": []
    },
    {
      "cell_type": "code",
      "metadata": {
        "colab": {
          "base_uri": "https://localhost:8080/"
        },
        "id": "QaNHaLG3VUBv",
        "outputId": "cf0ace4e-633e-468f-edec-35481a29253c"
      },
      "source": [
        "# accuracy score\n",
        "accuracy_score(y_test, y_pred_ptorn)\n",
        "accu_pe=accuracy_score(y_test, y_pred_ptorn)\n",
        "accu_pe"
      ],
      "execution_count": 69,
      "outputs": [
        {
          "output_type": "execute_result",
          "data": {
            "text/plain": [
              "0.7507002801120448"
            ]
          },
          "metadata": {},
          "execution_count": 69
        }
      ]
    },
    {
      "cell_type": "code",
      "metadata": {
        "colab": {
          "base_uri": "https://localhost:8080/"
        },
        "id": "a5KQkwZnVuIQ",
        "outputId": "07480324-92df-40b9-fce7-3543d3867879"
      },
      "source": [
        "print(classification_report(y_test, y_pred_ptorn))"
      ],
      "execution_count": 63,
      "outputs": [
        {
          "output_type": "stream",
          "name": "stdout",
          "text": [
            "              precision    recall  f1-score   support\n",
            "\n",
            "           0       0.84      0.76      0.80       233\n",
            "           1       0.62      0.73      0.67       124\n",
            "\n",
            "    accuracy                           0.75       357\n",
            "   macro avg       0.73      0.74      0.73       357\n",
            "weighted avg       0.76      0.75      0.75       357\n",
            "\n"
          ]
        }
      ]
    },
    {
      "cell_type": "code",
      "metadata": {
        "colab": {
          "base_uri": "https://localhost:8080/"
        },
        "id": "tNSvZGXUWcsN",
        "outputId": "23e55653-cdfd-4bd9-c7fe-2ed74f96bf13"
      },
      "source": [
        "# confusion matrix\n",
        "cm = confusion_matrix(y_test,y_pred_ptorn)\n",
        "print(confusion_matrix(y_test,y_pred_ptorn))"
      ],
      "execution_count": 64,
      "outputs": [
        {
          "output_type": "stream",
          "name": "stdout",
          "text": [
            "[[178  55]\n",
            " [ 34  90]]\n"
          ]
        }
      ]
    },
    {
      "cell_type": "code",
      "metadata": {
        "colab": {
          "base_uri": "https://localhost:8080/"
        },
        "id": "90DZpJuxVy2E",
        "outputId": "34363ad3-85a0-4981-8be0-428d22fcfd3c"
      },
      "source": [
        "# predicting the r2 score\n",
        "score=r2_score(y_test,y_pred_ptorn) \n",
        "print('r2 socre is ',score) \n",
        "print('mean_sqrd_error is==',mean_squared_error(y_test,y_pred_ptorn)) \n",
        "print('root_mean_squared error of is==',np.sqrt(mean_squared_error(y_test,y_pred_ptorn)))"
      ],
      "execution_count": 65,
      "outputs": [
        {
          "output_type": "stream",
          "name": "stdout",
          "text": [
            "r2 socre is  -0.09971618441090957\n",
            "mean_sqrd_error is== 0.24929971988795518\n",
            "root_mean_squared error of is== 0.49929922880769123\n"
          ]
        }
      ]
    },
    {
      "cell_type": "code",
      "metadata": {
        "colab": {
          "base_uri": "https://localhost:8080/",
          "height": 625
        },
        "id": "I7Bi3F87YnAc",
        "outputId": "62b21c6a-5feb-4446-f189-413c12058306"
      },
      "source": [
        "#CAP Analysis(cumulative accuracy profile)\n",
        "total = len(y_test) \n",
        "one_count = np.sum(y_test) \n",
        "zero_count = total - one_count \n",
        "\n",
        "lm_NB = [y for _, y in sorted(zip(y_pred_NB, y_test), reverse = True)] \n",
        "lm_SVC = [y for _, y in sorted(zip(y_pred_SVC, y_test), reverse = True)] \n",
        "lm_RandFor = [y for _, y in sorted(zip(y_pred_rf, y_test), reverse = True)] \n",
        "lm_KNN = [y for _, y in sorted(zip(y_pred_KNN,y_test),reverse=True)]\n",
        "lm_perc = [y for _, y in sorted(zip(y_pred_ptorn,y_test),reverse=True)]\n",
        "\n",
        "x = np.arange(0, total + 1) \n",
        "y_NB = np.append([0], np.cumsum(lm_NB)) \n",
        "y_SVC = np.append([0], np.cumsum(lm_SVC)) \n",
        "y_RandFor = np.append([0], np.cumsum(lm_RandFor)) \n",
        "y_KNN = np.append([0],np.cumsum(lm_KNN))\n",
        "y_perc = np.append([0],np.cumsum(lm_perc))\n",
        "\n",
        "plt.figure(figsize = (10, 10))\n",
        "plt.title('CAP Curve Analysis')\n",
        "plt.plot([0, total], [0, one_count], c = 'k', linestyle = '--', label = 'Random Model')\n",
        "plt.plot([0, one_count, total], [0, one_count, one_count], c = 'grey', linewidth = 2, label = 'Perfect Model') \n",
        "plt.plot(x, y_SVC, c = 'y', label = 'SVC', linewidth = 2)\n",
        "plt.plot(x, y_NB, c = 'b', label = 'Naive Bayes', linewidth = 2)\n",
        "plt.plot(x, y_RandFor, c = 'r', label = 'Rand Forest', linewidth = 2)\n",
        "plt.plot(x,y_KNN , c= 'g' , label = 'KNN', linewidth =2)\n",
        "plt.plot(x,y_perc, c='orange',label ='Perceptron',linewidth=2)\n",
        "\n",
        "plt.legend()"
      ],
      "execution_count": 66,
      "outputs": [
        {
          "output_type": "execute_result",
          "data": {
            "text/plain": [
              "<matplotlib.legend.Legend at 0x7f24af496350>"
            ]
          },
          "metadata": {},
          "execution_count": 66
        },
        {
          "output_type": "display_data",
          "data": {
            "image/png": "[encoded data removed]",
            "text/plain": [
              "<Figure size 720x720 with 1 Axes>"
            ]
          },
          "metadata": {
            "needs_background": "light"
          }
        }
      ]
    }
  ]
}